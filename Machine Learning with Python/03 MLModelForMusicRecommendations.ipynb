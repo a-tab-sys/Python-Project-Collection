{
 "cells": [
  {
   "cell_type": "code",
   "execution_count": 22,
   "id": "9170f366-05fb-461f-9bfd-aed786235111",
   "metadata": {},
   "outputs": [],
   "source": [
    "import pandas as pd\n",
    "from sklearn.tree import DecisionTreeClassifier\n",
    "from sklearn import tree\n",
    "\n",
    "# Load dataset\n",
    "music_data=pd.read_csv('03 music.csv')\n",
    "X = music_data.drop(columns=['genre'])\n",
    "y=music_data['genre']\n",
    "\n",
    "# Train model\n",
    "model = DecisionTreeClassifier()\n",
    "model.fit(X, y)\n",
    "\n",
    "# arguments(model, name of output file, feature names of columns of our data set, class names...\n",
    "tree.export_graphviz(model, \n",
    "                     out_file='music-recommender.dot', \n",
    "                     feature_names=['age', 'gender'], \n",
    "                     class_names=sorted(y.unique()),\n",
    "                     label='all', \n",
    "                     rounded = True,\n",
    "                     filled=True)\n",
    "\n",
    "# download extension in vs code, open in vs code, see visualization                                  \n",
    "\n"
   ]
  },
  {
   "cell_type": "code",
   "execution_count": null,
   "id": "2d52e609-174f-4fae-8ade-b982a340af02",
   "metadata": {},
   "outputs": [],
   "source": []
  }
 ],
 "metadata": {
  "kernelspec": {
   "display_name": "Python [conda env:base] *",
   "language": "python",
   "name": "conda-base-py"
  },
  "language_info": {
   "codemirror_mode": {
    "name": "ipython",
    "version": 3
   },
   "file_extension": ".py",
   "mimetype": "text/x-python",
   "name": "python",
   "nbconvert_exporter": "python",
   "pygments_lexer": "ipython3",
   "version": "3.12.7"
  }
 },
 "nbformat": 4,
 "nbformat_minor": 5
}
