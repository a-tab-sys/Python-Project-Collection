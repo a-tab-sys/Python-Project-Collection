{
 "cells": [
  {
   "cell_type": "code",
   "execution_count": null,
   "id": "a06b3471-f540-4928-b505-622e1448120f",
   "metadata": {},
   "outputs": [],
   "source": [
    "# Removed all code related to calculating accuracy and splitting test/train sets\n",
    "\n",
    "# We dont want to run the code to train a model eerytime we have a new user. in real applications \n",
    "# training can be a very time-comsuming process.\n",
    "\n",
    "# We will build and train our model and save it to file, so next time we want to make predictions, \n",
    "# we can simply load the model from the file and ask it to make predictions. The model is already trained, no need to retrain it.\n",
    "\n"
   ]
  },
  {
   "cell_type": "code",
   "execution_count": 16,
   "id": "9170f366-05fb-461f-9bfd-aed786235111",
   "metadata": {},
   "outputs": [
    {
     "data": {
      "text/plain": [
       "array(['HipHop'], dtype=object)"
      ]
     },
     "execution_count": 16,
     "metadata": {},
     "output_type": "execute_result"
    }
   ],
   "source": [
    "import pandas as pd\n",
    "from sklearn.tree import DecisionTreeClassifier\n",
    "import joblib  #this joblib object has methods for saving and loading models\n",
    "\n",
    "# Load dataset\n",
    "# music_data=pd.read_csv('03 music.csv')\n",
    "# X = music_data.drop(columns=['genre'])\n",
    "# y=music_data['genre']\n",
    "\n",
    "# Train model\n",
    "# model = DecisionTreeClassifier()\n",
    "# model.fit(X, y)\n",
    "\n",
    "# Save model\n",
    "# joblib.dump(model, 'music-recommender.joblib')\n",
    "\n",
    "# -----------------------------\n",
    "# In a real application we dont want to train model everytime, so we comment out above lines.\n",
    "# This time instead of dumping our model we will load it and pass in the name of our model file - which was got from previosly running dump\n",
    "\n",
    "# Load model\n",
    "model = joblib.load('music-recommender.joblib')\n",
    "# predictions = model.predict([[21, 1]])  #gives an error - resolved below. Needed to make sure we were passing a dataframe\n",
    "# predictions\n",
    "\n",
    "# Ensure input is a DataFrame\n",
    "# If X was originally a DataFrame during training, make sure you pass a DataFrame when making predictions:\n",
    "sample_data = pd.DataFrame([[21, 1]], columns=X.columns)  # Example input with column names\n",
    "prediction = model.predict(sample_data)\n",
    "prediction"
   ]
  },
  {
   "cell_type": "code",
   "execution_count": null,
   "id": "ba3a926c-c3aa-4014-a392-9cde6d826c3f",
   "metadata": {},
   "outputs": [],
   "source": []
  },
  {
   "cell_type": "code",
   "execution_count": null,
   "id": "6a1717be-eab3-410b-b529-a11398ea138b",
   "metadata": {},
   "outputs": [],
   "source": []
  }
 ],
 "metadata": {
  "kernelspec": {
   "display_name": "Python [conda env:base] *",
   "language": "python",
   "name": "conda-base-py"
  },
  "language_info": {
   "codemirror_mode": {
    "name": "ipython",
    "version": 3
   },
   "file_extension": ".py",
   "mimetype": "text/x-python",
   "name": "python",
   "nbconvert_exporter": "python",
   "pygments_lexer": "ipython3",
   "version": "3.12.7"
  }
 },
 "nbformat": 4,
 "nbformat_minor": 5
}
